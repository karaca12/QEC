{
 "cells": [
  {
   "cell_type": "code",
   "execution_count": 1,
   "id": "b2ff324e-9926-4015-b206-37e027243202",
   "metadata": {
    "tags": []
   },
   "outputs": [],
   "source": [
    "# Importing standard Qiskit libraries\n",
    "from qiskit import QuantumCircuit, transpile\n",
    "from qiskit.tools.jupyter import *\n",
    "from qiskit.visualization import *\n",
    "from ibm_quantum_widgets import *\n",
    "from qiskit_aer import AerSimulator\n",
    "\n",
    "# qiskit-ibmq-provider has been deprecated.\n",
    "# Please see the Migration Guides in https://ibm.biz/provider_migration_guide for more detail.\n",
    "from qiskit_ibm_runtime import QiskitRuntimeService, Sampler, Estimator, Session, Options\n",
    "\n",
    "# Loading your IBM Quantum account(s)\n",
    "service = QiskitRuntimeService(channel=\"ibm_quantum\")\n",
    "\n",
    "# Invoke a primitive inside a session. For more details see https://qiskit.org/documentation/partners/qiskit_ibm_runtime/tutorials.html\n",
    "# with Session(backend=service.backend(\"ibmq_qasm_simulator\")):\n",
    "#     result = Sampler().run(circuits).result()"
   ]
  },
  {
   "cell_type": "code",
   "execution_count": 13,
   "id": "70d1130a-86ac-4a28-a1f4-0d46eb67e25e",
   "metadata": {
    "tags": []
   },
   "outputs": [
    {
     "data": {
      "image/png": "[encoded data removed]",
      "text/plain": [
       "<Figure size 700x500 with 1 Axes>"
      ]
     },
     "execution_count": 13,
     "metadata": {},
     "output_type": "execute_result"
    }
   ],
   "source": [
    "import qiskit as qk\n",
    "import matplotlib.pyplot as plt\n",
    "from qiskit import *\n",
    "from qiskit.visualization import plot_bloch_multivector, plot_histogram, plot_state_city\n",
    "from qiskit.providers.aer.noise import NoiseModel, depolarizing_error\n",
    "\n",
    "# Create a quantum circuit with 3 qubits and 3 classical bits\n",
    "qr = qk.QuantumRegister(3, name='q')\n",
    "cr = qk.ClassicalRegister(3, name='c')\n",
    "qc = qk.QuantumCircuit(qr, cr)\n",
    "\n",
    "# Prepare the initial state (0 or 1) you want to protect against bit-flip errors\n",
    "initial_state = 0\n",
    "\n",
    "if initial_state == 1:\n",
    "    qc.x(qr[0])  # Set the first qubit to |1>\n",
    "\n",
    "# Encode the initial state using the repetition code\n",
    "qc.cx(qr[0], qr[1])\n",
    "qc.cx(qr[0], qr[2])\n",
    "\n",
    "# Decode the information and perform error detection\n",
    "qc.cx(qr[0], qr[1])\n",
    "qc.cx(qr[0], qr[2])\n",
    "qc.ccx(qr[2], qr[1], qr[0])\n",
    "\n",
    "# Measure the qubits\n",
    "qc.measure(qr, cr)\n",
    "\n",
    "# Define the noise model\n",
    "noise_model = NoiseModel()\n",
    "p_error = 0.1  # Error probability\n",
    "\n",
    "# Single-qubit depolarizing error\n",
    "single_qubit_error = depolarizing_error(p_error, 1)\n",
    "noise_model.add_all_qubit_quantum_error(single_qubit_error, ['x'])\n",
    "\n",
    "# Two-qubit depolarizing error\n",
    "two_qubit_error = depolarizing_error(p_error, 2)\n",
    "#noise_model.add_all_qubit_quantum_error(two_qubit_error, ['cx'])\n",
    "\n",
    "# Three-qubit depolarizing error\n",
    "three_qubit_error = depolarizing_error(p_error, 3)\n",
    "#noise_model.add_all_qubit_quantum_error(three_qubit_error, ['ccx'])\n",
    "\n",
    "# Execute the circuit on a simulator with noise\n",
    "backend = qk.Aer.get_backend('qasm_simulator')\n",
    "result = execute(qc,backend, shots=1024, noise_model=noise_model).result()\n",
    "counts = result.get_counts(qc)\n",
    "#Draw\n",
    "#qc.draw(output='mpl')\n",
    "# Display the results\n",
    "\n",
    "plot_histogram(counts)\n",
    "\n"
   ]
  },
  {
   "cell_type": "code",
   "execution_count": null,
   "id": "fc3311b0-5fc4-469c-8538-0b69b9221586",
   "metadata": {},
   "outputs": [],
   "source": []
  }
 ],
 "metadata": {
  "kernelspec": {
   "display_name": "Python 3 (ipykernel)",
   "language": "python",
   "name": "python3"
  },
  "language_info": {
   "codemirror_mode": {
    "name": "ipython",
    "version": 3
   },
   "file_extension": ".py",
   "mimetype": "text/x-python",
   "name": "python",
   "nbconvert_exporter": "python",
   "pygments_lexer": "ipython3",
   "version": "3.10.8"
  },
  "widgets": {
   "application/vnd.jupyter.widget-state+json": {
    "state": {},
    "version_major": 2,
    "version_minor": 0
   }
  }
 },
 "nbformat": 4,
 "nbformat_minor": 5
}

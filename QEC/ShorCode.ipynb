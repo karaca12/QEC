{
 "cells": [
  {
   "cell_type": "code",
   "execution_count": 1,
   "id": "83651b95-5960-44b0-bfd1-174ff50689cf",
   "metadata": {
    "tags": []
   },
   "outputs": [],
   "source": [
    "# Importing standard Qiskit libraries\n",
    "from qiskit import QuantumCircuit, transpile\n",
    "from qiskit.tools.jupyter import *\n",
    "from qiskit.visualization import *\n",
    "from ibm_quantum_widgets import *\n",
    "from qiskit_aer import AerSimulator\n",
    "\n",
    "# qiskit-ibmq-provider has been deprecated.\n",
    "# Please see the Migration Guides in https://ibm.biz/provider_migration_guide for more detail.\n",
    "from qiskit_ibm_runtime import QiskitRuntimeService, Sampler, Estimator, Session, Options\n",
    "\n",
    "# Loading your IBM Quantum account(s)\n",
    "service = QiskitRuntimeService(channel=\"ibm_quantum\")\n",
    "\n",
    "# Invoke a primitive inside a session. For more details see https://qiskit.org/documentation/partners/qiskit_ibm_runtime/tutorials.html\n",
    "# with Session(backend=service.backend(\"ibmq_qasm_simulator\")):\n",
    "#     result = Sampler().run(circuits).result()"
   ]
  },
  {
   "cell_type": "code",
   "execution_count": 11,
   "id": "341743b8-3e7b-4940-8504-304ace1fc0c0",
   "metadata": {
    "tags": []
   },
   "outputs": [
    {
     "data": {
      "image/png": "[encoded data removed]",
      "text/plain": [
       "<Figure size 700x500 with 1 Axes>"
      ]
     },
     "execution_count": 11,
     "metadata": {},
     "output_type": "execute_result"
    }
   ],
   "source": [
    "from qiskit import *\n",
    "import matplotlib.pyplot as plt\n",
    "from qiskit import QuantumCircuit, QuantumRegister, execute, Aer\n",
    "from qiskit.providers.aer.noise import NoiseModel, depolarizing_error\n",
    "from qiskit.visualization import plot_bloch_multivector, plot_histogram, plot_state_city, plot_state_qsphere\n",
    "\n",
    "\n",
    "# Initialization\n",
    "q = QuantumRegister(9, 'q')\n",
    "r = ClassicalRegister(1)\n",
    "c = QuantumCircuit(q,r)\n",
    "\n",
    "# Encoding\n",
    "c.cx(q[0], q[3])\n",
    "c.cx(q[0], q[6])\n",
    "\n",
    "c.h(q[0])\n",
    "c.h(q[3])\n",
    "c.h(q[6])\n",
    "\n",
    "c.cx(q[0], q[1])\n",
    "c.cx(q[0], q[2])\n",
    "c.cx(q[3], q[4])\n",
    "c.cx(q[3], q[5])\n",
    "c.cx(q[6], q[7])\n",
    "c.cx(q[6], q[8])\n",
    "\n",
    "# Error Correction\n",
    "c.cx(q[0], q[1])\n",
    "c.cx(q[0], q[2])\n",
    "c.ccx(q[2], q[1], q[0])\n",
    "\n",
    "c.cx(q[3], q[4])\n",
    "c.cx(q[3], q[5])\n",
    "c.ccx(q[5], q[4], q[3])\n",
    "\n",
    "c.cx(q[6], q[7])\n",
    "c.cx(q[6], q[8])\n",
    "c.ccx(q[8], q[7], q[6])\n",
    "\n",
    "c.h(q[0])\n",
    "c.h(q[3])\n",
    "c.h(q[6])\n",
    "\n",
    "c.cx(q[0], q[3])\n",
    "c.cx(q[0], q[6])\n",
    "c.ccx(q[6], q[3], q[0])\n",
    "\n",
    "c.measure(0, r)\n",
    "# Define the noise model\n",
    "noise_model = NoiseModel()\n",
    "depolarizing_error_rate = 0.1\n",
    "\n",
    "# Define depolarizing errors for single and two-qubit gates\n",
    "single_qubit_depolarizing_error = depolarizing_error(depolarizing_error_rate, 1)\n",
    "two_qubit_depolarizing_error = depolarizing_error(depolarizing_error_rate, 2)\n",
    "three_qubit_depolarizing_error = depolarizing_error(depolarizing_error_rate, 3)\n",
    "\n",
    "# Add errors to the noise model\n",
    "noise_model.add_all_qubit_quantum_error(single_qubit_depolarizing_error, ['x'])\n",
    "noise_model.add_all_qubit_quantum_error(two_qubit_depolarizing_error, ['cx'])\n",
    "noise_model.add_all_qubit_quantum_error(three_qubit_depolarizing_error, ['ccx'])\n",
    "\n",
    "backend = Aer.get_backend('qasm_simulator') ##'statevector_simulator' 'qasm_simulator'\n",
    "result = execute(c, backend, shots=1024, noise_model=noise_model).result() \n",
    "#psi  = result.get_statevector(c)\n",
    "counts = result.get_counts(c)\n",
    "\n",
    "# Visualizing the circuit\n",
    "#c.draw(output='mpl')\n",
    "#Output\n",
    "plot_histogram(counts)\n",
    "#plot_state_qsphere(psi)"
   ]
  },
  {
   "cell_type": "code",
   "execution_count": null,
   "id": "56756ba6-8b1a-41d0-9e57-686b04d0168c",
   "metadata": {},
   "outputs": [],
   "source": []
  }
 ],
 "metadata": {
  "kernelspec": {
   "display_name": "Python 3 (ipykernel)",
   "language": "python",
   "name": "python3"
  },
  "language_info": {
   "codemirror_mode": {
    "name": "ipython",
    "version": 3
   },
   "file_extension": ".py",
   "mimetype": "text/x-python",
   "name": "python",
   "nbconvert_exporter": "python",
   "pygments_lexer": "ipython3",
   "version": "3.10.8"
  },
  "widgets": {
   "application/vnd.jupyter.widget-state+json": {
    "state": {},
    "version_major": 2,
    "version_minor": 0
   }
  }
 },
 "nbformat": 4,
 "nbformat_minor": 5
}
